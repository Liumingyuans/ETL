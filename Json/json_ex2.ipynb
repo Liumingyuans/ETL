{
 "cells": [
  {
   "cell_type": "code",
   "execution_count": null,
   "metadata": {
    "collapsed": true
   },
   "outputs": [],
   "source": [
    "import json\n",
    "import requests as rs\n",
    "from bs4 import BeautifulSoup as bs\n",
    "headers = {\n",
    "   'User-Agent':'Mozilla/5.0 (Windows NT 6.1; WOW64) AppleWebKit/537.36 (KHTML, like Gecko) Chrome/46.0.2490.86 Safari/537.36'\n",
    "}\n",
    "res=rs.get('http://guide.easytravel.com.tw/getscenicdata.aspx?CNo=2&scenicNo=244&classcolor=fb6c17&choiseScenicNo=,&SearchKey=&t=1449316570239&config=json&_=1449316570242',headers = headers)\n",
    "print res.text\n",
    "jd = json.loads(res.text)\n",
    "for i in range(0,356):\n",
    "    print jd[i]['Name'],jd[i]['ShortAddress'],jd[i]['Hit']\n",
    "print jd\n",
    "\n",
    "#print res.text\n",
    "\n",
    "#ProdResult = soup.select('.ProdResult')[0]\n",
    "#print ProdResult\n"
   ]
  },
  {
   "cell_type": "code",
   "execution_count": 7,
   "metadata": {
    "collapsed": true
   },
   "outputs": [
    {
     "name": "stdout",
     "output_type": "stream",
     "text": [
      "[{\"id\":\"655636\",\"userinfo\":{\"avatar\":\"http:\\/\\/static.qyer.com\\/images\\/user2\\/avatar\\/big2.png\",\"link\":\"http:\\/\\/www.qyer.com\\/u\\/6786966\",\"name\":\"satzcoal\"},\"starlevel\":\"5\",\"date\":\"2015-10-06\",\"content\":\"\\u5f88\\u8d5e\\uff0c\\u89c2\\u666f\\u53f0\\u89c6\\u91ce\\u5f88\\u597d\\uff0c\\u522b\\u5fd8\\u4e86\\u518d\\u4e0a\\u4e00\\u5c42\\u53bb\\u6237\\u5916\\u89c2\\u666f\\u53f0\\uff0c\\u666f\\u8272\\u66f4\\u68d2\\uff0c\\u4e70\\u7968\\u63a8\\u8350\\u53ef\\u4ee5\\u5728101\\u5b98\\u7f51\\uff0c\\u4e24\\u5f209\\u6298\\u4e0d\\u9700\\u9752\\u58ee\\u548ctaipei pass\\uff0c\\u73b0\\u573a\\u4e70\\u9700\\u8981\\u6392\\u961f\\u81f3\\u5c11\\u4e00\\u5c0f\\u65f6\\u3002\\u4e0b\\u9762\\u5546\\u573a\\u5927\\u724c\\u4e91\\u96c6\\uff0c\\u5168\\u4e2d\\u6587\\u6c9f\\u901a\\u9000\\u7a0e\\u4e5f\\u5f88\\u65b9\\u4fbf\\uff0cB1\\u7684\\u5e97\\u6298\\u6263\\u4e5f\\u8fd8\\u4e0d\\u9519\\uff0c\\u697c\\u4e0bB1\\u9f0e\\u6cf0\\u4e30\\u4e0d\\u5bb9\\u9519\\u8fc7\\uff0c\\u8c01\\u53bb\\u8c01\\u77e5\\u9053\\uff0c\\u4e5f\\u9700\\u8981\\u6392\\u53f7\\uff0c\\u53ef\\u4ee5\\u63d0\\u524d\\u62ff\\uff0c\\u5b89\\u6392\\u597d\\u65f6\\u95f4\",\"album\":[{\"thumb\":\"http:\\/\\/pic3.qyer.com\\/album\\/user\\/1346\\/16\\/QEpRRBsBYE8\\/index\\/80\",\"photo\":\"http:\\/\\/pic.qyer.com\\/album\\/user\\/1346\\/16\\/QEpRRBsBYE8\\/index\\/300x200 \",\"link\":\"http:\\/\\/www.qyer.com\\/photo\\/13461607\\/?spm=allphoto\"}],\"useful\":\"3\",\"praised\":false,\"reply\":0,\"link\":\"http:\\/\\/place.qyer.com\\/review\\/655636\",\"isMine\":false},{\"id\":\"641763\",\"userinfo\":{\"avatar\":\"http:\\/\\/static.qyer.com\\/images\\/user2\\/avatar\\/big5.png\",\"link\":\"http:\\/\\/www.qyer.com\\/u\\/4604966\",\"name\":\"\\u6700\\u7f8e\\u7684\\u661f\\u661f\"},\"starlevel\":\"4\",\"date\":\"2015-09-24\",\"content\":\"\\u53bb\\u8fc7\\u4e1c\\u65b9\\u660e\\u73e0\\u7684\\u6211\\u867d\\u7136\\u5bf9101\\u671f\\u671b\\u4e0d\\u5927\\uff0c\\u4f46\\u8fd9\\u680b\\u9ad8\\u697c\\u62d4\\u5730\\u800c\\u8d77\\uff0c\\u9e64\\u7acb\\u9e21\\u7fa4\\uff0c\\u786e\\u5b9e\\u662f\\u89c2\\u666f\\u5723\\u5730\\uff01\",\"album\":[],\"useful\":\"1\",\"praised\":false,\"reply\":0,\"link\":\"http:\\/\\/place.qyer.com\\/review\\/641763\",\"isMine\":false},{\"id\":\"633511\",\"userinfo\":{\"avatar\":\"http:\\/\\/static.qyer.com\\/data\\/avatar\\/005\\/51\\/39\\/65_avatar_big.jpg?v=1422424964\",\"link\":\"http:\\/\\/www.qyer.com\\/u\\/5513965\",\"name\":\"\\u730e\\u4eba\\u7f57\\u6069\"},\"starlevel\":\"5\",\"date\":\"2015-09-17\",\"content\":\"\\u53f0\\u5317\\u5730\\u6807 \\u57fa\\u672c\\u4e0a\\u7b2c\\u4e00\\u6b21\\u53bb\\u53f0\\u5317\\u7684\\u4eba\\u90fd\\u56de\\u53bb \\u5bd3\\u610f\\u7740\\u829d\\u9ebb\\u5f00\\u82b1\\u8282\\u8282\\u9ad8\",\"album\":[],\"useful\":\"1\",\"praised\":false,\"reply\":0,\"link\":\"http:\\/\\/place.qyer.com\\/review\\/633511\",\"isMine\":false},{\"id\":\"623794\",\"userinfo\":{\"avatar\":\"http:\\/\\/static.qyer.com\\/data\\/avatar\\/006\\/66\\/31\\/21_avatar_big.jpg?v=1441532381\",\"link\":\"http:\\/\\/www.qyer.com\\/u\\/6663121\",\"name\":\"ForCenturies\"},\"starlevel\":\"5\",\"date\":\"2015-09-07\",\"content\":\"\\u62cd\\u4e86\\u597d\\u4e45\\u597d\\u4e45\\u7684\\u961f\\u624d\\u4e0a\\u53bb\\uff0c\\u4e0a\\u53bb\\u4e4b\\u540e\\u53d1\\u73b0\\u666f\\u8272\\u597d\\u68d2\\uff0c\\u5c31\\u662f\\u5ba4\\u5916\\u7684\\u53f0\\u5b50\\u5bf9\\u6211\\u8fd9\\u79cd\\u8eab\\u9ad8\\u6765\\u8bf4\\u4e0d\\u592a\\u65b9\\u4fbf\\u3002\",\"album\":[],\"useful\":\"1\",\"praised\":false,\"reply\":0,\"link\":\"http:\\/\\/place.qyer.com\\/review\\/623794\",\"isMine\":false},{\"id\":\"723913\",\"userinfo\":{\"avatar\":\"http:\\/\\/static.qyer.com\\/data\\/avatar\\/006\\/49\\/14\\/95_avatar_big.jpg?v=1448353352\",\"link\":\"http:\\/\\/www.qyer.com\\/u\\/6491495\",\"name\":\"Amanda_L\"},\"starlevel\":\"5\",\"date\":\"2015-12-05\",\"content\":\"\\u8d76\\u4e0a \\u6ca1\\u4e91\\u7684\\u65f6\\u5019\\u4e0a\\u53bb\\u7684\\u3002\\u89c6\\u91ce\\u4e0d\\u9519\\u3002\\u6784\\u9020\\u5f88\\u6709\\u7279\\u70b9\\u3002\\u79d1\\u6280\\u611f\\u5f3a\\u3002\\u8bbe\\u8ba1\\u8005\\u5320\\u5fc3\\u72ec\\u8fd0\\u3002\",\"album\":[],\"useful\":\"0\",\"praised\":false,\"reply\":0,\"link\":\"http:\\/\\/place.qyer.com\\/review\\/723913\",\"isMine\":false},{\"id\":\"723678\",\"userinfo\":{\"avatar\":\"http:\\/\\/static.qyer.com\\/images\\/user2\\/avatar\\/big3.png\",\"link\":\"http:\\/\\/www.qyer.com\\/u\\/7115158\",\"name\":\"\\u7cf8\\u6c0f\\u7eb8\\u7eb8\"},\"starlevel\":\"5\",\"date\":\"2015-12-05\",\"content\":\"\\u8bb0\\u5f97\\u6700\\u6e05\\u695a\\u7684\\u662f\\u5927\\u697c\\u5916\\u95e8\\u53e3\\u7684\\u8857\\u4e0a\\u5c31\\u6709\\u5ba3\\u4f20\\u6cd5\\uff0a\\u529f\\u7684\\u3002\\u3002\\u3002\\u697c\\u91cc\\u9762\\u5c31\\u662f\\u8d2d\\u7269\\u554a\\u5403\\u996d\\u554a\\uff0c\\u770b\\u591c\\u666f\\u5f88\\u4e0d\\u9519\\u3002\",\"album\":[],\"useful\":\"0\",\"praised\":false,\"reply\":0,\"link\":\"http:\\/\\/place.qyer.com\\/review\\/723678\",\"isMine\":false},{\"id\":\"723131\",\"userinfo\":{\"avatar\":\"http:\\/\\/static.qyer.com\\/data\\/avatar\\/005\\/56\\/81\\/53_avatar_big.jpg?v=1423970083\",\"link\":\"http:\\/\\/www.qyer.com\\/u\\/5568153\",\"name\":\"wawamian\"},\"starlevel\":\"3\",\"date\":\"2015-12-04\",\"content\":\"\\u4e00\\u822c\\u4e00\\u822c\\uff0c\\u53ef\\u80fd\\u4e70\\u7684\\u662f\\u65e9\\u9e1f\\u7968\\uff0c\\u770b\\u8d77\\u6765\\u7684\\u53f0\\u5317\\u5e02\\u6ca1\\u6709\\u665a\\u4e0a\\u4eae\\u7740\\u706f\\u90a3\\u4e48\\u7f8e\\u5427\\uff0c\\u7968\\u539f\\u4ef7\\u662f500\\u65b0\\u53f0\\u5e01\\uff0c\\u65e9\\u5e74\\u7968\\u662f450\\u65b0\\u53f0\\u5e01\\uff0c\\u4e0a\\u9762\\u53ef\\u4ee5\\u4e70\\u5230\\u660e\\u4fe1\\u7247\\uff0c\\u633a\\u8d35\\u5c31\\u662f\\u4e86\\uff0c\\u4e00\\u5f20\\u8d77\\u780180\\u65b0\\u53f0\\u5e01\\u5de6\\u53f3\\u5462\\uff0c\\u53ef\\u4ee5\\u5728\\u4e0a\\u9762\\u5bc4\\u660e\\u4fe1\\u7247\\uff0c\\u90ae\\u6233\\u5c31\\u4f1a\\u4f7f\\u53f0\\u5317101\\u7684\\uff0c\\u5176\\u5b9e\\u771f\\u7684\\u6ca1\\u4ec0\\u4e48\\u7279\\u522b\\u7684\\uff0c\\u5c31\\u4f53\\u9a8c\\u4e00\\u4e0b\\u7535\\u68af\\u7684\\u901f\\u5ea6\\u800c\\u5df2\",\"album\":[],\"useful\":\"0\",\"praised\":false,\"reply\":0,\"link\":\"http:\\/\\/place.qyer.com\\/review\\/723131\",\"isMine\":false},{\"id\":\"721812\",\"userinfo\":{\"avatar\":\"http:\\/\\/static.qyer.com\\/data\\/avatar\\/004\\/02\\/58\\/24_avatar_big.jpg?v=1408414990\",\"link\":\"http:\\/\\/www.qyer.com\\/u\\/4025824\",\"name\":\"\\u5ff5\\u5ff5_\\u5e74\"},\"starlevel\":\"5\",\"date\":\"2015-12-02\",\"content\":\"\\u5efa\\u8bae\\u8d2d\\u7269\\u548c\\u89c2\\u666f\\u4e00\\u8d77 \\u8d2d\\u7269\\u73af\\u5883\\u548c\\u670d\\u52a1\\u6001\\u5ea6\\u7edd\\u5bf9\\u6ca1\\u5f97\\u8bf4 \\u8d2d\\u5b8c\\u7269\\u5230\\u4e00\\u5b9a\\u91d1\\u989d\\u4f1a\\u9001\\u5238\\u53ef\\u4ee5\\u4e0a\\u53bb101\\u89c2\\u666f\\u53f0\",\"album\":[],\"useful\":\"0\",\"praised\":false,\"reply\":0,\"link\":\"http:\\/\\/place.qyer.com\\/review\\/721812\",\"isMine\":false},{\"id\":\"721581\",\"userinfo\":{\"avatar\":\"http:\\/\\/static.qyer.com\\/data\\/avatar\\/006\\/67\\/60\\/90_avatar_big.jpg?v=1449033521\",\"link\":\"http:\\/\\/www.qyer.com\\/u\\/6676090\",\"name\":\"Iris-Jiang\"},\"starlevel\":\"3\",\"date\":\"2015-12-02\",\"content\":\"\\u4e00\\u5e62\\u96c6\\u4f11\\u95f2\\u3001\\u5a31\\u4e50\\u3001\\u9910\\u996e\\u3001\\u8d2d\\u7269\\u4e8e\\u4e00\\u4f53\\u7684\\u666f\\u89c2\\u5efa\\u7b51\\uff0c\\u662f\\u53f0\\u5317\\u4e43\\u81f3\\u53f0\\u6e7e\\u5730\\u6807\\u6027\\u6027\\u7684\\u666f\\u70b9\\u3002\\u9910\\u996e\\u4e94\\u82b1\\u516b\\u95e8\\uff0c\\u4e0d\\u8bba\\u4e2d\\u3001\\u897f\\u5f0f\\uff0c\\u8fd8\\u662f\\u5927\\u9910\\u5c0f\\u98df\\uff0c\\u4e00\\u5e94\\u4ff1\\u5168\\u3002\\u8d2d\\u7269\\u65b9\\u9762\\uff1a\\u5168\\u7403\\u4e00\\u7ebf\\u5962\\u4f88\\u54c1\\u90fd\\u6709\\u7cbe\\u54c1\\u5e97\\uff0c\\u670d\\u9970\\u3001\\u914d\\u9970\\u3001\\u73e0\\u5b9d\\u7b49\\u4e5f\\u5e94\\u6709\\u5c3d\\u6709\\u3002\\u81f3\\u4e8e\\u6700\\u9ad8\\u5c42\\u7684\\u89c2\\u5149\\u53f0\\u9700\\u8981\\u53e6\\u884c\\u652f\\u4ed8\\u8d39\\u7528\\uff0c\\u901a\\u8fc7\\u76f4\\u8fbe\\u7535\\u68af\\u524d\\u5f80\\u3002\",\"album\":[],\"useful\":\"0\",\"praised\":false,\"reply\":0,\"link\":\"http:\\/\\/place.qyer.com\\/review\\/721581\",\"isMine\":false},{\"id\":\"721526\",\"userinfo\":{\"avatar\":\"http:\\/\\/static.qyer.com\\/data\\/avatar\\/005\\/76\\/77\\/82_avatar_big.jpg?v=1447585159\",\"link\":\"http:\\/\\/www.qyer.com\\/u\\/5767782\",\"name\":\"xiiao_jing\"},\"starlevel\":\"4\",\"date\":\"2015-12-02\",\"content\":\"\\u6ca1\\u8fdb\\u53bb\\uff0c\\u53ea\\u5728\\u5916\\u5934\\u62cd\\u7167\\u7559\\u5ff5\\u3002\",\"album\":[],\"useful\":\"0\",\"praised\":false,\"reply\":0,\"link\":\"http:\\/\\/place.qyer.com\\/review\\/721526\",\"isMine\":false}]\n",
      "很贊，觀景臺視野很好，別忘了再上一層去戶外觀景台，景色更棒，買票推薦可以在101官網，兩張9折不需青壯和taipei pass，現場買需要排隊至少一小時。下麵商場大牌雲集，全中文溝通退稅也很方便，B1的店折扣也還不錯，樓下B1鼎泰豐不容錯過，誰去誰知道，也需要排號，可以提前拿，安排好時間\n",
      "去過東方明珠的我雖然對101期望不大，但這棟高樓拔地而起，鶴立雞群，確實是觀景聖地！\n",
      "臺北地標 基本上第一次去臺北的人都回去 寓意著芝麻開花節節高\n",
      "拍了好久好久的隊才上去，上去之後發現景色好棒，就是室外的檯子對我這種身高來說不太方便。\n",
      "趕上 沒雲的時候上去的。視野不錯。構造很有特點。科技感強。設計者匠心獨運。\n",
      "記得最清楚的是大樓外門口的街上就有宣傳法＊功的。。。樓裡面就是購物啊吃飯啊，看夜景很不錯。\n",
      "一般一般，可能買的是早鳥票，看起來的臺北市沒有晚上亮著燈那麼美吧，票原價是500新臺幣，早年票是450新臺幣，上面可以買到明信片，挺貴就是了，一張起碼80新臺幣左右呢，可以在上面寄明信片，郵戳就會使臺北101的，其實真的沒什麼特別的，就體驗一下電梯的速度而已\n",
      "建議購物和觀景一起 購物環境和服務態度絕對沒得說 購完物到一定金額會送券可以上去101觀景台\n",
      "一幢集休閑、娛樂、餐飲、購物於一體的景觀建築，是臺北乃至臺灣地標性性的景點。餐飲五花八門，不論中、西式，還是大餐小食，一應俱全。購物方面：全球一線奢侈品都有精品店，服飾、配飾、珠寶等也應有盡有。至於最高層的觀光台需要另行支付費用，通過直達電梯前往。\n",
      "沒進去，只在外頭拍照留念。\n"
     ]
    }
   ],
   "source": [
    "from langconv import *\n",
    "def simple2tradition(line):\n",
    "    #簡體轉繁體\n",
    "    line = Converter('zh-hant').convert(line.decode('utf-8'))\n",
    "    line = line.encode('utf-8')\n",
    "    return line\n",
    "import json\n",
    "import requests as rs\n",
    "from bs4 import BeautifulSoup as bs\n",
    "import re\n",
    "headers = {\n",
    "   'User-Agent':'Mozilla/5.0 (Windows NT 6.1; WOW64) AppleWebKit/537.36 (KHTML, like Gecko) Chrome/46.0.2490.86 Safari/537.36'\n",
    "}\n",
    "for j in range(1,2):\n",
    "    res=rs.get('http://place.qyer.com/poi.php?action=comment&page={}&order=5&poiid=59203&starLevel=all'.format(j),headers = headers)\n",
    "    #print res.text\n",
    "    m = re.search(':{\"lists\":(.*),\"m:',res.text)\n",
    "    #print m\n",
    "    print m.group(1) \n",
    "    import json\n",
    "    jd = json.loads(m.group(1))\n",
    "    for i in  jd:\n",
    "        #print i[\"id\"],i[\"date\"],i[\"starlevel\"],i[\"content\"]\n",
    "        print simple2tradition(i[\"content\"].encode('utf-8'))\n",
    "#jd = json.loads(res.text)\n",
    "#for i in range(0,356):\n",
    "    "
   ]
  },
  {
   "cell_type": "code",
   "execution_count": 17,
   "metadata": {
    "collapsed": false
   },
   "outputs": [
    {
     "name": "stdout",
     "output_type": "stream",
     "text": [
      "24177256 1243695072 不設分類\n"
     ]
    }
   ],
   "source": [
    "import json\n",
    "import requests as rs\n",
    "from bs4 import BeautifulSoup as bs\n",
    "import re\n",
    "res=rs.get('https://emma.pixnet.cc/blog/articles/24177256?user=eveionics')\n",
    "#print res.text\n",
    "\n",
    "m = re.search('cle\":(.*),\"message\"',res.text)\n",
    "#print m.group(1)\n",
    "import json\n",
    "jd = json.loads(m.group(1))\n",
    "\n",
    "print jd[\"id\"],jd[\"public_at\"],jd[\"site_category\"]"
   ]
  }
 ],
 "metadata": {
  "kernelspec": {
   "display_name": "Python 2",
   "language": "python",
   "name": "python2"
  },
  "language_info": {
   "codemirror_mode": {
    "name": "ipython",
    "version": 2
   },
   "file_extension": ".py",
   "mimetype": "text/x-python",
   "name": "python",
   "nbconvert_exporter": "python",
   "pygments_lexer": "ipython2",
   "version": "2.7.10"
  }
 },
 "nbformat": 4,
 "nbformat_minor": 0
}
